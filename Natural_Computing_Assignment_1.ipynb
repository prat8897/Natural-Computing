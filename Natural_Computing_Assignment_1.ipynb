{
  "nbformat": 4,
  "nbformat_minor": 0,
  "metadata": {
    "colab": {
      "name": "Natural Computing Assignment 1.ipynb",
      "provenance": [],
      "collapsed_sections": [],
      "include_colab_link": true
    },
    "kernelspec": {
      "name": "python3",
      "display_name": "Python 3"
    }
  },
  "cells": [
    {
      "cell_type": "markdown",
      "metadata": {
        "id": "view-in-github",
        "colab_type": "text"
      },
      "source": [
        "<a href=\"https://colab.research.google.com/github/prat8897/Natural-Computing/blob/main/Natural_Computing_Assignment_1.ipynb\" target=\"_parent\"><img src=\"https://colab.research.google.com/assets/colab-badge.svg\" alt=\"Open In Colab\"/></a>"
      ]
    },
    {
      "cell_type": "markdown",
      "metadata": {
        "id": "V9rTjw4vBpE6"
      },
      "source": [
        "1. (Schemata) [0.5 point] Consider the two schemata A1 = #0#101###, A2 = ##010#111. Which of the two schemata has the highest chance to survive mu- tation, for a mutation rate pm = 0.01? (Justify your answer)."
      ]
    },
    {
      "cell_type": "markdown",
      "metadata": {
        "id": "6-0OiTuBBsPP"
      },
      "source": [
        "Schema with lower order is more likely to survive. Since a schema order is the number of its fixed bits, the order of A1 is 4 and the order of A2 is 6. As mutation is applied gene by gene with probability $p_m$, also all fixed bits must remain unchanged, the probability of a gene not being changed is (1-$p_m$) that will extend for the whole genes of scheme with formula $(1- p_m)^{o(H)}$ in which ${o(H)}$ is the order of schema. \n",
        "\n",
        "The probability that a schema $H$ survives under mutation $S_m(H)$ is $(1 - p_m)^{o(H)}$.\n",
        "Given A1 = \\#0\\#101\\#\\#\\#, A2 = \\#\\#010\\#111 and $p_m = 0.01$; we have \n",
        "\n",
        "\n",
        "\\begin{gather*} \n",
        "S_m(A1) = (1 - 0.01) ^ 4 = 0.96 \\\\\n",
        "S_m(A2) = (1 - 0.01) ^ 6 = 0.94\n",
        "\\end{gather*}\n",
        "Thus, Schema A1 is more likely to survive."
      ]
    },
    {
      "cell_type": "markdown",
      "metadata": {
        "id": "IeFdeLprCpuB"
      },
      "source": [
        "2. (Building Block Hypothesis) [0.5 point] Describe a problem where the Building Block Hypothesis does not hold. Explain why."
      ]
    },
    {
      "cell_type": "markdown",
      "metadata": {
        "id": "JzBftBLBCtMz"
      },
      "source": [
        "The Building Block Hypothesi says that short, low order, high fitness schema while mutating, crossing and selecting will lead to better stepvise results. It fails in cases when we're looking for a specific solution. For example, we're looking for a specific number. If we look at all numbers and take the highest ones we get the highest number, but the numbers combined are not garanteed to be closer to the one we're aiming for, even if our goal is a high number."
      ]
    },
    {
      "cell_type": "markdown",
      "metadata": {
        "id": "GRUCbgn8Cq1W"
      },
      "source": [
        "3. (Selection Pressure) [1 point] Given the fitness function f(x) = x2, calculate the probability of selecting the individuals x = 2, x = 3, and x = 4, using roulette wheel selection. Calculate the probability of selecting the same individuals when the fitness function is scaled as follows f1(x) = f(x) + 20. Which fitness function yields a lower selection pressure? What can you conclude about the effect of fitness scaling on selection pressure?"
      ]
    },
    {
      "cell_type": "markdown",
      "metadata": {
        "id": "uGzvW5cdCvCu"
      },
      "source": [
        "f(x) = x2 \\\r\n",
        "fitness at x=2 is x*2 = 2*2 = 4 \\\r\n",
        "4/18 = 0.22 \\\r\n",
        "fitness at x=3 is x*2 = 3*2 = 6 \\\r\n",
        "6/18 = 0.33 \\\r\n",
        "fitness at x=4 is x*2 = 4*2 = 8 \\\r\n",
        "8/18 = 0.44 \\\r\n",
        "The chances of selecting x=2 are approximately 22%, x=3 are 33% and x=4 are 66%\\\r\n",
        "\\\r\n",
        "for f(x) = f(x) + 20 \\78\r\n",
        "fitnes at x=2 is x*2+20 = 2*2+20 = 24 \\\r\n",
        "24/78 = 0.31 \\\r\n",
        "fitness at x=3 is x*2+20 = 3*2+20 = 26 \\\r\n",
        "26/78 = 0.33 \\\r\n",
        "fitness at x=4 is x*2+20 = 4*2+20 = 28 \\\r\n",
        "28/78 = 0.36 \\\r\n",
        "The chances of selecting x=2 are approximately 31%, x=3 are 33% and x=4 are 36%\\\r\n",
        "\r\n",
        "The second fitness function creates a smaller change in selection pressure between the given values of x. From this we conclude that if the difference between fitness values if greater so will the difference between selection pressures."
      ]
    },
    {
      "cell_type": "markdown",
      "metadata": {
        "id": "JBQq9Yg4CxQ_"
      },
      "source": [
        "4. (Role of selection in GA’ s) [2 points] A simple (1+1)-GA for binary problems works as follows.\n",
        "\n",
        "(a) Randomly generate a bit sequence $x$.\n",
        "\n",
        "(b) Create a copy of $x$ and invert each of its bits with probability $p$. Let $x_m$ be the\n",
        "result.\n",
        "\n",
        "(c) If $x_m$ is closer to the goal sequence than $x$ then replace $x$ with $x_m$.\n",
        "\n",
        "(d) Repeat the process from step (b) with the new $x$ until the goal sequence is reached.\n",
        "\n"
      ]
    },
    {
      "cell_type": "code",
      "metadata": {
        "colab": {
          "base_uri": "https://localhost:8080/",
          "height": 122
        },
        "cellView": "code",
        "id": "PJtAy6D1MfTW",
        "outputId": "fa1893e7-9b95-4b2c-fa19-e05c48c51683"
      },
      "source": [
        "from random import random, choice\n",
        "\n",
        "def invert(x, p):\n",
        "    #Create a copy of x and invert each of its bits with probability p\n",
        "    x_m = ''\n",
        "    for bit in x:\n",
        "        if random() < p:\n",
        "            x_m += '1' if (bit == '0') else '0'\n",
        "        else:\n",
        "            x_m += '1' if (bit == '1') else '0'\n",
        "    return x_m\n",
        "\n",
        "def hamming(s1, s2):\n",
        "    #Find hamming distance between x_m and goal sequence\n",
        "    assert len(s1) == len(s2)\n",
        "    return sum(c1 != c2 for c1, c2 in zip(s1, s2))\n",
        "\n",
        "def main(goal_sequence, p):\n",
        "    #Randomly generate a bit sequence x.\n",
        "    x = ''.join(choice('01') for _ in range(len(goal_sequence)))\n",
        "    print('started from the bottom ', x)\n",
        "\n",
        "    while x != goal_sequence:\n",
        "        #Create a copy of x and invert each of its bits with probability p. Let x_m be the result.\n",
        "        x_m = invert(x, p)\n",
        "        #If x_m is closer to the goal sequence than x then replace x with x_m.\n",
        "        if hamming(x_m, goal_sequence) < hamming(x, goal_sequence):\n",
        "            print('Replacing ', x, ' with ', x_m)\n",
        "            x = x_m\n",
        "    \n",
        "    print('now we here ', x, ' = ', goal_sequence)\n",
        "    return x\n",
        "\n",
        "goal_sequence = '0101100010'\n",
        "p = 0.2\n",
        "main(goal_sequence, p)"
      ],
      "execution_count": null,
      "outputs": [
        {
          "output_type": "stream",
          "text": [
            "started from the bottom  0100111000\n",
            "Replacing  0100111000  with  0100101010\n",
            "Replacing  0100101010  with  0100100010\n",
            "Replacing  0100100010  with  0101100010\n",
            "now we here  0101100010  =  0101100010\n"
          ],
          "name": "stdout"
        },
        {
          "output_type": "execute_result",
          "data": {
            "application/vnd.google.colaboratory.intrinsic+json": {
              "type": "string"
            },
            "text/plain": [
              "'0101100010'"
            ]
          },
          "metadata": {
            "tags": []
          },
          "execution_count": 2
        }
      ]
    },
    {
      "cell_type": "markdown",
      "metadata": {
        "id": "jYnlygmEJcdU"
      },
      "source": [
        "The Counting Ones problem amounts to find a bit string whose sum of its entries is maximum. Implement a simple (1 + 1)-GA for solving the Counting Ones problem.\n",
        "\n",
        "(a) Use bit strings of length $l = 100$ and a mutation rate $p = 1/l$. For a run of 1500 iterations, plot the best fitness against the elapsed number of iterations.\n",
        "\n",
        "(b) Now do 10 runs. How many times the algorithm finds the optimum?\n",
        "\n",
        "(c) Now replace (c) in the above algorithm with (c’ ): replace $x$ with $x_m$. Is there a difference in performance when using this modification? Justify your answer."
      ]
    },
    {
      "cell_type": "code",
      "metadata": {
        "colab": {
          "base_uri": "https://localhost:8080/",
          "height": 282
        },
        "id": "Dy-wmlAiPWdT",
        "outputId": "ab71a4ad-298c-4354-a960-0bd9c5f27900"
      },
      "source": [
        "import matplotlib.pyplot as plt\n",
        "l = 100\n",
        "p = 1/l\n",
        "iterations = 1500\n",
        "\n",
        "def fitness(string):\n",
        "    #sum of its entries\n",
        "    return sum([int(bit) for bit in string])\n",
        "\n",
        "def create_string(l):\n",
        "    #create bit string of length l=100\n",
        "    return ''.join(choice('01') for _ in range(l))\n",
        "\n",
        "def mutate(string, p):\n",
        "    #mutate string based on probability p\n",
        "    mutated = ''\n",
        "    for bit in string:\n",
        "        if random() < p:\n",
        "            mutated += '1' if (bit == '0') else '0'\n",
        "        else:\n",
        "            mutated += '1' if (bit == '1') else '0'\n",
        "    return mutated\n",
        "\n",
        "def genetic_algorithm(iterations):\n",
        "    parent = create_string(l) #parent bit string\n",
        "    best = [] #string with the best fitness\n",
        "    for iteration in range(iterations):\n",
        "        child = mutate(parent, p)\n",
        "\n",
        "        if fitness(child) > fitness(parent):\n",
        "            parent = child\n",
        "            best.append(child)\n",
        "        else:\n",
        "            best.append(parent)\n",
        "\n",
        "    return best\n",
        "\n",
        "#1500 runs\n",
        "lineage = genetic_algorithm(iterations)\n",
        "plt.plot([fitness(string) for string in lineage])\n",
        "    "
      ],
      "execution_count": null,
      "outputs": [
        {
          "output_type": "execute_result",
          "data": {
            "text/plain": [
              "[<matplotlib.lines.Line2D at 0x7f7a3e27b9e8>]"
            ]
          },
          "metadata": {
            "tags": []
          },
          "execution_count": 76
        },
        {
          "output_type": "display_data",
          "data": {
            "image/png": "[encoded data removed]",
            "text/plain": [
              "<Figure size 432x288 with 1 Axes>"
            ]
          },
          "metadata": {
            "tags": [],
            "needs_background": "light"
          }
        }
      ]
    },
    {
      "cell_type": "code",
      "metadata": {
        "colab": {
          "base_uri": "https://localhost:8080/",
          "height": 282
        },
        "id": "ZiJzazckL4nI",
        "outputId": "4f7624fd-9191-4cb7-b089-02a8c2fbc24b"
      },
      "source": [
        "#10 runs\n",
        "lineage = genetic_algorithm(10)\n",
        "plt.plot([fitness(string) for string in lineage])"
      ],
      "execution_count": null,
      "outputs": [
        {
          "output_type": "execute_result",
          "data": {
            "text/plain": [
              "[<matplotlib.lines.Line2D at 0x7f7a3e38f710>]"
            ]
          },
          "metadata": {
            "tags": []
          },
          "execution_count": 68
        },
        {
          "output_type": "display_data",
          "data": {
            "image/png": "[encoded data removed]",
            "text/plain": [
              "<Figure size 432x288 with 1 Axes>"
            ]
          },
          "metadata": {
            "tags": [],
            "needs_background": "light"
          }
        }
      ]
    },
    {
      "cell_type": "markdown",
      "metadata": {
        "id": "2jayj-ZGC32Q"
      },
      "source": [
        "ANSWER"
      ]
    },
    {
      "cell_type": "markdown",
      "metadata": {
        "id": "5iy2BjMXC4xM"
      },
      "source": [
        "5. (Evolutionary strategies vs local search) [1 point] Consider a (1+5) ES. How does this differ from the (1+1) ES in how the search space is explored when optimizing a function? How does the (1+λ) ES strategy behave with respect to the value of λ when compared to greedy algorithms? (Recall that greedy algorithms perform a sequence of locally optimal steps in order to search for an optimal solution.)"
      ]
    },
    {
      "cell_type": "markdown",
      "metadata": {
        "id": "91d_7a83DG8h"
      },
      "source": [
        "Using the above explanations, in (1+5) ES, for one parent\r\n",
        "\r\n",
        "a) first, we create five copies of the current parent\r\n",
        "\r\n",
        "b) Then we invert each bit of the five copies with the probability p, Let $x_{m1}$ to $x_{m5}$ be the results.\r\n",
        "\r\n",
        "c) Each result compete with the parent, and we select the best ones as the new parent.\r\n",
        "\r\n",
        "d) repeat if not the goal is not meet.\r\n",
        "\r\n",
        "Obviously, the (1+5)ES strategy explores the search space more than (1+1)ES. In other words, in $(1+\\lambda)$ES as $\\lambda$ grows, the chance of reaching the global optimal increases. In contrast, if we use $\\lambda=1$ the search tends to the local solutions similar to the greedy algorithm.\r\n",
        "\r\n",
        "It would be a good choice if we select a big $\\lambda$ at the first steps of search and reduce it gradually."
      ]
    },
    {
      "cell_type": "markdown",
      "metadata": {
        "id": "XQxLScKnDJXe"
      },
      "source": [
        "6. (Memetic algorithms vs simple EAs) [2.5 point] Implement the simple EA for the TSP described in our first lecture (see slides).\n",
        "\n",
        "(a) Implement a variant of this algorithm based on memetic algorithms. Compare the performance of the two algorithms in a fair way on the TSP problem in- stance given in the file ‘file-tsp’ and on one small instance at your choice from the ‘Symmetric Traveling Salesman Problem’ benchmark instances available at http://elib.zib.de/pub/mp-testdata/tsp/tsplib/tsplib.html. The file ‘file-tsp’ contains a 50 × 2 matrix with the coordinates (xi, yi) for city i = 1, . . . , 50. Please provide URL link to your source code and results containing clear instructions on how to reproduce your results.\n",
        "\n",
        "(b) On the TSP problem are memetic algorithms more effective than the simple EA’ s? (To answer this question, use the results of your investigation as well as recent results from the literature)."
      ]
    },
    {
      "cell_type": "code",
      "metadata": {
        "id": "xhZaSBrm9_Kc"
      },
      "source": [
        "import numpy as np\r\n",
        "import matplotlib.pyplot as plt"
      ],
      "execution_count": null,
      "outputs": []
    },
    {
      "cell_type": "code",
      "metadata": {
        "colab": {
          "base_uri": "https://localhost:8080/",
          "height": 264
        },
        "id": "CAsKePsh-QgL",
        "outputId": "7545752c-2316-4e3d-b8d1-05089bdf7df6"
      },
      "source": [
        "# read data (point coordinates)\r\n",
        "Cor = np.loadtxt('file-tsp.txt')\r\n",
        "plt.plot(Cor[: ,0] , Cor[:,  1] ,'.')\r\n",
        "num_city = np.size(Cor , 0)"
      ],
      "execution_count": null,
      "outputs": [
        {
          "output_type": "display_data",
          "data": {
            "image/png": "[encoded data removed]",
            "text/plain": [
              "<Figure size 432x288 with 1 Axes>"
            ]
          },
          "metadata": {
            "tags": [],
            "needs_background": "light"
          }
        }
      ]
    },
    {
      "cell_type": "code",
      "metadata": {
        "id": "kuMDGLgo-sM8"
      },
      "source": [
        "def getFitness(x):\r\n",
        "  sum = 0\r\n",
        "  for i in range(num_city-1):\r\n",
        "    sum += np.sqrt((Cor[x[i],0]-Cor[x[i+1],0])**2 + (Cor[x[i],1]-Cor[x[i+1],1])**2)\r\n",
        "  return sum"
      ],
      "execution_count": null,
      "outputs": []
    },
    {
      "cell_type": "code",
      "metadata": {
        "id": "C8_aK8W_-yxa"
      },
      "source": [
        "# params\r\n",
        "num_population = 30\r\n",
        "num_generation = 1000\r\n",
        "mutation_rate = 0.05"
      ],
      "execution_count": null,
      "outputs": []
    },
    {
      "cell_type": "code",
      "metadata": {
        "id": "EYpKJxKK-xrm"
      },
      "source": [
        "# initialiaztion\r\n",
        "X = np.zeros((num_population , num_city),dtype = np.int32)\r\n",
        "F = np.zeros((num_population))\r\n",
        "np.random.seed(101)\r\n",
        "for i in range(num_population):\r\n",
        "  X[i] = np.random.permutation(num_city)"
      ],
      "execution_count": null,
      "outputs": []
    },
    {
      "cell_type": "code",
      "metadata": {
        "id": "i49w1odb-1AG"
      },
      "source": [
        "def cross_over(X):\r\n",
        "  # defining crossover function \r\n",
        "  for i in range(0,num_population , 2):\r\n",
        "    par1 = X[i]\r\n",
        "    par2 = X[i+1]\r\n",
        "\r\n",
        "    # creating two random cut points\r\n",
        "    cut1 = np.random.randint(low = 0 ,high=num_city//2)\r\n",
        "    cut2 = np.random.randint(low = num_city//2 , high = num_city)\r\n",
        "    \r\n",
        "    offspring1 = -np.ones_like(par1)\r\n",
        "    offspring2 = -np.ones_like(par2)\r\n",
        "\r\n",
        "    offspring1[cut1 : cut2 + 1] = par1[cut1 : cut2 + 1]\r\n",
        "    offspring2[cut1 : cut2 + 1] = par2[cut1 : cut2 + 1]\r\n",
        "\r\n",
        "    cnt1 = 0\r\n",
        "    cnt2 = 0\r\n",
        "    for j in range(num_city):\r\n",
        "      if np.isin(par2[j],offspring1) == False:\r\n",
        "        if cnt1 < cut1:\r\n",
        "          offspring1[cnt1] = par2[j]\r\n",
        "        else:\r\n",
        "          offspring1[cnt1 - cut1 + cut2 + 1] = par2[j]\r\n",
        "        cnt1 += 1\r\n",
        "      if np.isin(par1[j],offspring2) == False:\r\n",
        "        \r\n",
        "        if cnt2 < cut1:\r\n",
        "          offspring2[cnt2] = par1[j]\r\n",
        "        else:\r\n",
        "          offspring2[cnt2 - cut1 + cut2 + 1] = par1[j]\r\n",
        "        cnt2 += 1\r\n",
        "    \r\n",
        "    X[i] = offspring1\r\n",
        "    X[i+1] = offspring2\r\n",
        "\r\n",
        "\r\n",
        "######################################\r\n",
        "def mutation(X):\r\n",
        "  # defining mutation function\r\n",
        "  for i in range(num_population):\r\n",
        "    if np.random.rand() < mutation_rate:    # the probability of a random number less than mutation_rate is 0.05\r\n",
        "      # generating two random numbers  \r\n",
        "      s1 = np.random.randint(low = 0 , high = num_city)\r\n",
        "      s2 = np.random.randint(low = 0 , high = num_city)\r\n",
        "      # swapping two values\r\n",
        "      t = X[i , s1]\r\n",
        "      X[i , s1] = X[i , s2]\r\n",
        "      X[i , s2] = t"
      ],
      "execution_count": null,
      "outputs": []
    },
    {
      "cell_type": "code",
      "metadata": {
        "colab": {
          "base_uri": "https://localhost:8080/"
        },
        "id": "ePUSPqUYBtDo",
        "outputId": "d3d63af0-76b0-4b0a-ac6a-c6c01329e216"
      },
      "source": [
        "# testing the crossover function\r\n",
        "print (\"X[0] before cross over \\n\", X[0])\r\n",
        "print (X[1])\r\n",
        "cross_over(X)\r\n",
        "print (\"X[0] after cross over \\n\", X[0])\r\n",
        "print (X[1])"
      ],
      "execution_count": null,
      "outputs": [
        {
          "output_type": "stream",
          "text": [
            "X[0] before cross over \n",
            " [37 14 21 32 22  1 26 46 42 47 16 24  7 45 18  3 41 30 15 20 43 38 44 39\n",
            " 10 49 25 33 36  2 27 34 35  8 19 29 12  5  0 28  4 40 13  9 48 23  6 17\n",
            " 11 31]\n",
            "[34 41 25  1  6  7 38  0 31 49 32 21  4 43 16 48  3 47 37 46 28 18  2 13\n",
            "  9 39  5 44 45 14 23 40 26 22  8 27 20 10 30 35 19 36 24 29 33 15 11 17\n",
            " 12 42]\n",
            "X[0] after cross over \n",
            " [ 1  6 31 32 21  4 16 48 47 37 46 28  7 45 18  3 41 30 15 20 43 38 44 39\n",
            " 10 49 25 33 36  2 27 34 35  8 19 29 12  5  0 13  9 14 23 40 26 22 24 11\n",
            " 17 42]\n",
            "[21 32  1 42 24  7 41 15 38 49 25 33  4 43 16 48  3 47 37 46 28 18  2 13\n",
            "  9 39  5 44 45 14 23 40 26 22  8 27 20 10 30 36 34 35 19 29 12  0  6 17\n",
            " 11 31]\n"
          ],
          "name": "stdout"
        }
      ]
    },
    {
      "cell_type": "code",
      "metadata": {
        "colab": {
          "base_uri": "https://localhost:8080/",
          "height": 474
        },
        "id": "RjdimKhyFquX",
        "outputId": "df69f3d0-6804-4d19-b68e-72b6b6c212b6"
      },
      "source": [
        "# main loop of simple GA\r\n",
        "best_solution = []\r\n",
        "best_fit = np.inf * np.ones((num_generation))\r\n",
        "\r\n",
        "for iter in range(num_generation):\r\n",
        "\r\n",
        "  for i in range(num_population):\r\n",
        "    F[i] = getFitness(X[i])\r\n",
        "\r\n",
        "  isort = np.argsort(F)\r\n",
        "  X = X[isort]\r\n",
        "  F = F[isort]\r\n",
        "\r\n",
        "  if iter > 0:\r\n",
        "    best_fit[iter] = best_fit[iter - 1]\r\n",
        "\r\n",
        "  if (F[0] < best_fit[iter]):\r\n",
        "    best_fit[iter] = F[0]\r\n",
        "    best_solution = X[0]\r\n",
        "  \r\n",
        "  cross_over(X)\r\n",
        "\r\n",
        "  mutation(X)\r\n",
        "\r\n",
        "  if (iter % 100 == 0):\r\n",
        "    print('Iter '+ str(iter)+ ' from '+ str(num_generation))\r\n",
        "\r\n",
        "plt.plot(best_fit)\r\n",
        "plt.xlabel('generation')\r\n",
        "plt.ylabel('fitness')"
      ],
      "execution_count": null,
      "outputs": [
        {
          "output_type": "stream",
          "text": [
            "Iter 0 from 1000\n",
            "Iter 100 from 1000\n",
            "Iter 200 from 1000\n",
            "Iter 300 from 1000\n",
            "Iter 400 from 1000\n",
            "Iter 500 from 1000\n",
            "Iter 600 from 1000\n",
            "Iter 700 from 1000\n",
            "Iter 800 from 1000\n",
            "Iter 900 from 1000\n"
          ],
          "name": "stdout"
        },
        {
          "output_type": "execute_result",
          "data": {
            "text/plain": [
              "Text(0, 0.5, 'fitness')"
            ]
          },
          "metadata": {
            "tags": []
          },
          "execution_count": 14
        },
        {
          "output_type": "display_data",
          "data": {
            "image/png": "[encoded data removed]",
            "text/plain": [
              "<Figure size 432x288 with 1 Axes>"
            ]
          },
          "metadata": {
            "tags": [],
            "needs_background": "light"
          }
        }
      ]
    },
    {
      "cell_type": "code",
      "metadata": {
        "colab": {
          "base_uri": "https://localhost:8080/",
          "height": 264
        },
        "id": "QDe4Kqw1JX1k",
        "outputId": "47c8aa46-293f-4ed6-ef15-29c80f8c75d1"
      },
      "source": [
        "# plot output of simple GA\r\n",
        "plt.plot(Cor[: ,0] , Cor[:,  1] ,'.')\r\n",
        "plt.plot(Cor[best_solution , 0],Cor[best_solution , 1])\r\n",
        "plt.show()"
      ],
      "execution_count": null,
      "outputs": [
        {
          "output_type": "display_data",
          "data": {
            "image/png": "[encoded data removed]",
            "text/plain": [
              "<Figure size 432x288 with 1 Axes>"
            ]
          },
          "metadata": {
            "tags": [],
            "needs_background": "light"
          }
        }
      ]
    },
    {
      "cell_type": "code",
      "metadata": {
        "id": "RLRTyeWJJdhz"
      },
      "source": [
        "# initialiaztion\r\n",
        "X = np.zeros((num_population , num_city),dtype = np.int32)\r\n",
        "F = np.zeros((num_population))\r\n",
        "np.random.seed(101)\r\n",
        "for i in range(num_population):\r\n",
        "  X[i] = np.random.permutation(num_city)"
      ],
      "execution_count": null,
      "outputs": []
    },
    {
      "cell_type": "code",
      "metadata": {
        "id": "pTcgl3fQJkUi"
      },
      "source": [
        "from scipy.spatial.distance import cdist\r\n",
        "Dist = cdist(Cor , Cor)\r\n",
        "Dist[Dist == 0] = np.inf\r\n",
        "index_nearest_city = np.argmin(Dist,axis = 1)"
      ],
      "execution_count": null,
      "outputs": []
    },
    {
      "cell_type": "code",
      "metadata": {
        "id": "uzSJCisyJond"
      },
      "source": [
        "def local_search(X , F):\r\n",
        "  for i in range(num_population):\r\n",
        "    for j in range(num_city-1):\r\n",
        "      copy = np.array(X[i])\r\n",
        "      nc = index_nearest_city[copy[j]]\r\n",
        "      copy[copy == nc] = copy[j + 1]\r\n",
        "      copy[j+1] = nc\r\n",
        "      FC = getFitness(copy)\r\n",
        "      if FC < F[i]:\r\n",
        "        X[i] = copy\r\n",
        "        F[i] = FC"
      ],
      "execution_count": null,
      "outputs": []
    },
    {
      "cell_type": "code",
      "metadata": {
        "colab": {
          "base_uri": "https://localhost:8080/"
        },
        "id": "aQ5JTdEJJvjp",
        "outputId": "792a5b88-4d3c-4dc7-cdf7-e97238f4884b"
      },
      "source": [
        "# main loop of simple GA\r\n",
        "best_solution = []\r\n",
        "best_fit = np.inf * np.ones((num_generation))\r\n",
        "\r\n",
        "for iter in range(num_generation):\r\n",
        "\r\n",
        "  for i in range(num_population):\r\n",
        "    F[i] = getFitness(X[i])\r\n",
        "\r\n",
        "  isort = np.argsort(F)\r\n",
        "  X = X[isort]\r\n",
        "  F = F[isort]\r\n",
        "\r\n",
        "  if iter > 0:\r\n",
        "    best_fit[iter] = best_fit[iter - 1]\r\n",
        "\r\n",
        "  if (F[0] < best_fit[iter]):\r\n",
        "    best_fit[iter] = F[0]\r\n",
        "    best_solution = X[0]\r\n",
        "  \r\n",
        "  cross_over(X)\r\n",
        "\r\n",
        "  mutation(X)\r\n",
        "\r\n",
        "  local_search(X , F)\r\n",
        "\r\n",
        "  if (iter % 100 == 0):\r\n",
        "    print('Iter '+ str(iter)+ ' from '+ str(num_generation))\r\n",
        "\r\n",
        "plt.plot(best_fit)\r\n",
        "plt.xlabel('generation')\r\n",
        "plt.ylabel('fitness')"
      ],
      "execution_count": null,
      "outputs": [
        {
          "output_type": "stream",
          "text": [
            "Iter 0 from 1000\n",
            "Iter 100 from 1000\n",
            "Iter 200 from 1000\n",
            "Iter 300 from 1000\n",
            "Iter 400 from 1000\n",
            "Iter 500 from 1000\n",
            "Iter 600 from 1000\n",
            "Iter 700 from 1000\n",
            "Iter 800 from 1000\n",
            "Iter 900 from 1000\n"
          ],
          "name": "stdout"
        },
        {
          "output_type": "execute_result",
          "data": {
            "text/plain": [
              "Text(0, 0.5, 'fitness')"
            ]
          },
          "metadata": {
            "tags": []
          },
          "execution_count": 19
        },
        {
          "output_type": "display_data",
          "data": {
            "image/png": "[encoded data removed]",
            "text/plain": [
              "<Figure size 432x288 with 1 Axes>"
            ]
          },
          "metadata": {
            "tags": [],
            "needs_background": "light"
          }
        }
      ]
    },
    {
      "cell_type": "code",
      "metadata": {
        "colab": {
          "base_uri": "https://localhost:8080/"
        },
        "id": "aLfY4-EDKGX2",
        "outputId": "216a0355-0416-4f64-a3c1-250ab9d99f4a"
      },
      "source": [
        "# plot\r\n",
        "plt.plot(Cor[: ,0] , Cor[:,  1] ,'.')\r\n",
        "plt.plot(Cor[best_solution , 0],Cor[best_solution , 1])\r\n",
        "plt.show()"
      ],
      "execution_count": null,
      "outputs": [
        {
          "output_type": "display_data",
          "data": {
            "image/png": "[encoded data removed]",
            "text/plain": [
              "<Figure size 432x288 with 1 Axes>"
            ]
          },
          "metadata": {
            "tags": [],
            "needs_background": "light"
          }
        }
      ]
    },
    {
      "cell_type": "markdown",
      "metadata": {
        "id": "Rouxx2W9vH3v"
      },
      "source": [
        "As it is clear from the fitness function diagram, the speed of convergence in local fitness is higher than simple EA, also local fitness leads to a better optimal solution. To be more concise, the optimal solution for EA converged around 360, while this amount for local converged just below 200. Comparing the performances of two algorithms is observable in the graph of the city. The EA graph is denser than the one for the local version."
      ]
    },
    {
      "cell_type": "markdown",
      "metadata": {
        "id": "UFwQozaoDOJv"
      },
      "source": [
        "7. (Genetic Programming representation) [0.5 point] Give a suitable function, terminal set and s-expression for the following logical and mathematical formulas:\n",
        "\n",
        "(a) (y∧true)→((x∨y)∨(z↔(x∧y))),\n",
        "\n",
        "(b) 0.234 ∗ z + x–0.789."
      ]
    },
    {
      "cell_type": "markdown",
      "metadata": {
        "id": "LnMpbUqwHYem"
      },
      "source": [
        "ANSWER"
      ]
    },
    {
      "cell_type": "markdown",
      "metadata": {
        "id": "HX1wLSVODUi9"
      },
      "source": [
        "8. (Genetic Programming behaviour) [2 points] Implement a GP program for finding a symbolic expression that fits the following data:\n",
        "\n",
        "| (Input) Dependent Variable | Y(Output) |\n",
        "|----------------------------|-----------|\n",
        "| -1.0                       | 0.0000    |\n",
        "| -0.9                       | -0.1629   |\n",
        "| -0.8                       | -0.2624   |\n",
        "| -0.7                       | -0.3129   |\n",
        "| -0.6                       | -0.3264   |\n",
        "| -0.5                       | -0.3125   |\n",
        "| -0.4                       | -0.2784   |\n",
        "| -0.3                       | -0.2289   |\n",
        "| -0.2                       | -0.1664   |\n",
        "| -0.1                       | -0.0909   |\n",
        "| 0                          | 0.0       |\n",
        "| 0.1                        | 0.1111    |\n",
        "| 0.2                        | 0.2496    |\n",
        "| 0.3                        | 0.4251    |\n",
        "| 0.4                        | 0.6496    |\n",
        "| 0.5                        | 0.9375    |\n",
        "| 0.6                        | 1.3056    |\n",
        "| 0.7                        | 1.7731    |\n",
        "| 0.8                        | 2.3616    |\n",
        "| 0.9                        | 3.0951    |\n",
        "| 1.0                        | 4.0000    |\n",
        "\n",
        "with the following parameter settings: \n",
        "\n",
        "|||\n",
        "|-----------------------|------------------------------------|\n",
        "| Population size       | 1000                               |\n",
        "| function set          | {+, −, ∗, log, exp, sin, cos, div} |\n",
        "| terminal set          | x                                  |\n",
        "| number of generations | 50                                 |\n",
        "| crossover probability | 0.7                                |\n",
        "| mutation probability  | 0                                  |\n",
        "| fitness               | sum of absolute errors             |\n",
        "\n",
        "You can use an existing GP framework: see for instance list of implementation frame- works mentioned in the syllabus.\n",
        "\n",
        "Plot the following:\n",
        "\n",
        "(a) best of generation fitness (y-axis) versus generation (x-axis).\n",
        "\n",
        "(b) best of generation size (y-axis) versus generation (x-axis).\n",
        "\n",
        "\n",
        "Can you observe any undesirable phenomenon from these plots? In case of positive answer, how would you try to overcome the related problem (you can refer to the literature).\n"
      ]
    },
    {
      "cell_type": "code",
      "metadata": {
        "id": "EN-a_rtKNAwX"
      },
      "source": [
        ""
      ],
      "execution_count": null,
      "outputs": []
    },
    {
      "cell_type": "markdown",
      "metadata": {
        "id": "4dz3jclHHZ1O"
      },
      "source": [
        "ANSWER"
      ]
    }
  ]
}